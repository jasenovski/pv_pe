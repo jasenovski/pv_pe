{
 "cells": [
  {
   "cell_type": "code",
   "execution_count": 1,
   "metadata": {},
   "outputs": [],
   "source": [
    "# importando os pacotes que serão utilizados\n",
    "import numpy as np\n",
    "import cv2\n",
    "import pickle as pkl"
   ]
  },
  {
   "cell_type": "code",
   "execution_count": null,
   "metadata": {},
   "outputs": [
    {
     "data": {
      "text/plain": [
       "[(538, 301), (547, 251), (491, 206), (537, 147), (483, 112)]"
      ]
     },
     "execution_count": 3,
     "metadata": {},
     "output_type": "execute_result"
    }
   ],
   "source": [
    "# importando um arquivo pickle usando a função 'open' com o bloco 'with'\n",
    "# um arquivo pickle é um arquivo binário que armazena objetos python\n",
    "with open(\"pontos.pkl\", \"rb\") as f:\n",
    "    pontos = pkl.load(f)\n",
    "\n",
    "# imprimindo os primeiros 5 pontos do arquivo carregado\n",
    "pontos[:5]"
   ]
  },
  {
   "cell_type": "code",
   "execution_count": 4,
   "metadata": {},
   "outputs": [],
   "source": [
    "# p1 é o ponto de partida e p2 é o ponto de chegada do vetor de contagem de cruzamentos\n",
    "pontos_contador = {\n",
    "    \"p1\": np.array([320, 50]),\n",
    "    \"p2\": np.array([320, 450]),\n",
    "}"
   ]
  },
  {
   "cell_type": "code",
   "execution_count": 6,
   "metadata": {},
   "outputs": [],
   "source": [
    "cv2.namedWindow(\"Frame\", cv2.WINDOW_AUTOSIZE)\n",
    "\n",
    "# percorrendo cada ponto da coleção 'pontos' para observar os pontos do objeto 'andante'\n",
    "for ponto in pontos:\n",
    "\n",
    "    # cria um frame preto (zeros) com 480 altura X 640 largura pixels e 3 canais de cor (RGB)\n",
    "    frame = np.zeros((480, 640, 3), dtype=np.uint8)\n",
    "\n",
    "    # desenha um círculo no frame na posição do ponto (x, y) com raio 5 e cor verde\n",
    "    frame = cv2.circle(frame, ponto, 5, (0, 255, 0), -1)\n",
    "\n",
    "    # desenha uma seta no frame que representa o vetor de contagem de cruzamentos\n",
    "    frame = cv2.arrowedLine(img=frame, \n",
    "                            pt1=pontos_contador[\"p1\"], \n",
    "                            pt2=pontos_contador[\"p2\"], \n",
    "                            color=(0, 0, 255), \n",
    "                            thickness=2)\n",
    "\n",
    "    # exibe o frame na tela\n",
    "    cv2.imshow(\"Frame\", frame)\n",
    "\n",
    "    # aguarda uma tecla ser pressionada. Enquanto não for pressionada, a execução do código é pausada\n",
    "    tecla = cv2.waitKey(0)\n",
    "\n",
    "    # se a tecla pressionada for 'q', o loop é interrompido e a janela é fechada\n",
    "    if tecla == ord('q'):\n",
    "        break\n",
    "\n",
    "# fecha todas as janelas abertas\n",
    "cv2.destroyWindow(\"Frame\")"
   ]
  },
  {
   "cell_type": "code",
   "execution_count": 7,
   "metadata": {},
   "outputs": [
    {
     "data": {
      "text/plain": [
       "{'p1': array([320,  50]), 'p2': array([320, 450])}"
      ]
     },
     "execution_count": 7,
     "metadata": {},
     "output_type": "execute_result"
    }
   ],
   "source": [
    "# exibe o dicionário 'pontos_contador' na tela\n",
    "pontos_contador"
   ]
  },
  {
   "cell_type": "code",
   "execution_count": 8,
   "metadata": {},
   "outputs": [
    {
     "data": {
      "text/plain": [
       "{'p1': array([300, 200]), 'p2': array([340, 200])}"
      ]
     },
     "execution_count": 8,
     "metadata": {},
     "output_type": "execute_result"
    }
   ],
   "source": [
    "# cria um vetor do objeto 'andante' para criar e testar o algoritmo de checagem de cruzamento\n",
    "# p1 é o ponto de partida e p2 é o ponto de chegada do vetor 'andante'\n",
    "pontos_andante = {\n",
    "    \"p1\": np.array([300, 200]),\n",
    "    \"p2\": np.array([340, 200]),\n",
    "}\n",
    "pontos_andante"
   ]
  },
  {
   "cell_type": "code",
   "execution_count": 9,
   "metadata": {},
   "outputs": [],
   "source": [
    "# cria o frame preto (zeros) com 480 altura X 640 largura pixels e 3 canais de cor (RGB)\n",
    "frame = np.zeros((480, 640, 3), dtype=np.uint8)\n",
    "\n",
    "# escreve na tela o texto 'vetor_contador'\n",
    "frame = cv2.putText(img=frame,                                  # imagem\n",
    "                    text=\"vetor_contador\",                      # texto a ser exibido\n",
    "                    org=(10, 20),                               # ponto de origem do texto\n",
    "                    fontFace=cv2.FONT_HERSHEY_SIMPLEX,          # tipo da fonte\n",
    "                    fontScale=0.5,                              # tamanho da fonte\n",
    "                    color=(0, 0, 255),                          # cor do texto (BGR)\n",
    "                    thickness=2)                                # espessura da fonte\n",
    "\n",
    "# desenha uma seta no frame que representa o vetor de contagem de cruzamentos\n",
    "frame = cv2.arrowedLine(img=frame,                              # imagem\n",
    "                        pt1=pontos_contador[\"p1\"],          # ponto de partida\n",
    "                        pt2=pontos_contador[\"p2\"],          # ponto de chegada\n",
    "                        color=(0, 0, 255),                      # cor da seta (BGR)\n",
    "                        thickness=2)                            # espessura da seta\n",
    "\n",
    "# escreve na tela o texto 'vetor_andante'\n",
    "frame = cv2.putText(img=frame,                                  # imagem\n",
    "                    text=\"vetor_andante\",                # texto a ser exibido\n",
    "                    org=(10, 40),                               # ponto de origem do texto\n",
    "                    fontFace=cv2.FONT_HERSHEY_SIMPLEX,          # tipo da fonte\n",
    "                    fontScale=0.5,                              # tamanho da fonte\n",
    "                    color=(0, 255, 0),                          # cor do texto (BGR)\n",
    "                    thickness=2)                                # espessura da fonte\n",
    "\n",
    "# desenha uma seta no frame que representa o vetor do objeto 'andante'\n",
    "frame = cv2.arrowedLine(img=frame,                              # imagem\n",
    "                        pt1=pontos_andante[\"p1\"],    # ponto de partida\n",
    "                        pt2=pontos_andante[\"p2\"],    # ponto de chegada\n",
    "                        color=(0, 255, 0),                      # cor da seta (BGR)\n",
    "                        thickness=2)                            # espessura da seta\n",
    "\n",
    "# exibe o frame na tela\n",
    "cv2.imshow(\"Frame\", frame)\n",
    "\n",
    "# congela a execução do código até que uma tecla seja pressionada\n",
    "cv2.waitKey(0)\n",
    "\n",
    "# fecha todas as janelas abertas\n",
    "cv2.destroyAllWindows()"
   ]
  },
  {
   "cell_type": "code",
   "execution_count": 10,
   "metadata": {},
   "outputs": [],
   "source": [
    "# separa os valores dos pontos 'p1' e 'p2' dos vetores 'andante' e 'contador' em variaveis separadas\n",
    "# para adaptar o código em relação ao trabalho de modelagem 'pdf'\n",
    "\n",
    "ai = pontos_andante[\"p1\"][0]\n",
    "aj = pontos_andante[\"p1\"][1]\n",
    "bi = pontos_andante[\"p2\"][0]\n",
    "bj = pontos_andante[\"p2\"][1]\n",
    "\n",
    "ci = pontos_contador[\"p1\"][0]\n",
    "cj = pontos_contador[\"p1\"][1]\n",
    "di = pontos_contador[\"p2\"][0]\n",
    "dj = pontos_contador[\"p2\"][1]"
   ]
  },
  {
   "cell_type": "code",
   "execution_count": 11,
   "metadata": {},
   "outputs": [
    {
     "name": "stdout",
     "output_type": "stream",
     "text": [
      "[40  0]\n",
      "[  0 400]\n"
     ]
    }
   ],
   "source": [
    "# transformando os dicionários em vetores numpy\n",
    "vetor_andante = np.array([bi - ai, bj - aj])\n",
    "vetor_contador = np.array([di - ci, dj - cj])\n",
    "\n",
    "print(vetor_andante)\n",
    "print(vetor_contador)"
   ]
  },
  {
   "cell_type": "code",
   "execution_count": 12,
   "metadata": {},
   "outputs": [
    {
     "data": {
      "text/plain": [
       "array([[  0, -40],\n",
       "       [400,   0]])"
      ]
     },
     "execution_count": 12,
     "metadata": {},
     "output_type": "execute_result"
    }
   ],
   "source": [
    "# observar a modelagem em 'pdf' para entender a lógica do cálculo\n",
    "matriz_m = np.array([\n",
    "    [di - ci, ai - bi],\n",
    "    [dj - cj, aj - bj]\n",
    "])\n",
    "matriz_m"
   ]
  },
  {
   "cell_type": "code",
   "execution_count": 13,
   "metadata": {},
   "outputs": [
    {
     "data": {
      "text/plain": [
       "array([[ 0.    ,  0.0025],\n",
       "       [-0.025 , -0.    ]])"
      ]
     },
     "execution_count": 13,
     "metadata": {},
     "output_type": "execute_result"
    }
   ],
   "source": [
    "# calculando a inversa da matriz 'm'\n",
    "matriz_m_inv = np.linalg.inv(matriz_m)\n",
    "matriz_m_inv"
   ]
  },
  {
   "cell_type": "code",
   "execution_count": 14,
   "metadata": {},
   "outputs": [
    {
     "data": {
      "text/plain": [
       "array([[-20],\n",
       "       [150]])"
      ]
     },
     "execution_count": 14,
     "metadata": {},
     "output_type": "execute_result"
    }
   ],
   "source": [
    "# observar a modelagem em 'pdf' para entender a lógica do cálculo\n",
    "vetor_ac = np.array([[ai - ci], \n",
    "                     [aj - cj]])\n",
    "vetor_ac"
   ]
  },
  {
   "cell_type": "code",
   "execution_count": 15,
   "metadata": {},
   "outputs": [
    {
     "data": {
      "text/plain": [
       "(array([0.5]), array([0.375]))"
      ]
     },
     "execution_count": 15,
     "metadata": {},
     "output_type": "execute_result"
    }
   ],
   "source": [
    "# o produto da matriz inversa 'm' com o vetor 'ac' resulta nos coeficientes 'k1' e 'k2'\n",
    "k2, k1 = matriz_m_inv.dot(vetor_ac)\n",
    "k1, k2"
   ]
  },
  {
   "cell_type": "markdown",
   "metadata": {},
   "source": [
    "### Perceber que houve o cruzamento entre os vetores `andante` e `contador`, pois `0 <= k1 <= 1` e `0 <= k2 <= 1`"
   ]
  },
  {
   "cell_type": "code",
   "execution_count": 16,
   "metadata": {},
   "outputs": [],
   "source": [
    "# importando o pacote que vai parear os pontos\n",
    "from itertools import pairwise"
   ]
  },
  {
   "cell_type": "code",
   "execution_count": 17,
   "metadata": {},
   "outputs": [
    {
     "data": {
      "text/plain": [
       "<itertools.pairwise at 0x29ca8a6f490>"
      ]
     },
     "execution_count": 17,
     "metadata": {},
     "output_type": "execute_result"
    }
   ],
   "source": [
    "# pareando os pontos\n",
    "pontos_pareados = pairwise(pontos)\n",
    "pontos_pareados"
   ]
  },
  {
   "cell_type": "code",
   "execution_count": 18,
   "metadata": {},
   "outputs": [
    {
     "data": {
      "text/plain": [
       "[((538, 301), (547, 251)),\n",
       " ((547, 251), (491, 206)),\n",
       " ((491, 206), (537, 147)),\n",
       " ((537, 147), (483, 112)),\n",
       " ((483, 112), (422, 196)),\n",
       " ((422, 196), (481, 278)),\n",
       " ((481, 278), (394, 348)),\n",
       " ((394, 348), (349, 269)),\n",
       " ((349, 269), (450, 224)),\n",
       " ((450, 224), (371, 176)),\n",
       " ((371, 176), (257, 127)),\n",
       " ((257, 127), (185, 176)),\n",
       " ((185, 176), (127, 255)),\n",
       " ((127, 255), (198, 353)),\n",
       " ((198, 353), (265, 437)),\n",
       " ((265, 437), (372, 459)),\n",
       " ((372, 459), (432, 438)),\n",
       " ((432, 438), (492, 373)),\n",
       " ((492, 373), (489, 282)),\n",
       " ((489, 282), (563, 261)),\n",
       " ((563, 261), (525, 187)),\n",
       " ((525, 187), (440, 134)),\n",
       " ((440, 134), (408, 64)),\n",
       " ((408, 64), (298, 139)),\n",
       " ((298, 139), (228, 210)),\n",
       " ((228, 210), (195, 281)),\n",
       " ((195, 281), (208, 396)),\n",
       " ((208, 396), (355, 340)),\n",
       " ((355, 340), (469, 399)),\n",
       " ((469, 399), (515, 370)),\n",
       " ((515, 370), (564, 294)),\n",
       " ((564, 294), (467, 227)),\n",
       " ((467, 227), (298, 262)),\n",
       " ((298, 262), (218, 184)),\n",
       " ((218, 184), (172, 93)),\n",
       " ((172, 93), (88, 64)),\n",
       " ((88, 64), (65, 143)),\n",
       " ((65, 143), (84, 320)),\n",
       " ((84, 320), (237, 375)),\n",
       " ((237, 375), (358, 333)),\n",
       " ((358, 333), (267, 213)),\n",
       " ((267, 213), (418, 181)),\n",
       " ((418, 181), (536, 167)),\n",
       " ((536, 167), (533, 331)),\n",
       " ((533, 331), (584, 446)),\n",
       " ((584, 446), (470, 442)),\n",
       " ((470, 442), (540, 339)),\n",
       " ((540, 339), (442, 232)),\n",
       " ((442, 232), (278, 231)),\n",
       " ((278, 231), (178, 272)),\n",
       " ((178, 272), (168, 402)),\n",
       " ((168, 402), (52, 388)),\n",
       " ((52, 388), (63, 262)),\n",
       " ((63, 262), (180, 184)),\n",
       " ((180, 184), (231, 184)),\n",
       " ((231, 184), (336, 311)),\n",
       " ((336, 311), (444, 400)),\n",
       " ((444, 400), (518, 310)),\n",
       " ((518, 310), (504, 174)),\n",
       " ((504, 174), (400, 117)),\n",
       " ((400, 117), (181, 128)),\n",
       " ((181, 128), (49, 161))]"
      ]
     },
     "execution_count": 18,
     "metadata": {},
     "output_type": "execute_result"
    }
   ],
   "source": [
    "# transformando o objeto 'pairwise' em uma lista para imprimir seus elementos na tela\n",
    "pontos_pareados = list(pairwise(pontos))\n",
    "pontos_pareados"
   ]
  },
  {
   "cell_type": "code",
   "execution_count": 19,
   "metadata": {},
   "outputs": [
    {
     "name": "stdout",
     "output_type": "stream",
     "text": [
      "cruzou\n",
      "cruzou\n",
      "cruzou\n",
      "cruzou\n",
      "cruzou\n",
      "cruzou\n",
      "cruzou\n",
      "cruzou\n",
      "cruzou\n",
      "cruzou\n",
      "cruzou\n"
     ]
    }
   ],
   "source": [
    "for pontos_andantes in pontos_pareados:\n",
    "\n",
    "    # 'desempacota' os pares de pontos em variáveis separadas 'ponto_partida_pessoa' e 'ponto_chegada_pessoa'\n",
    "    ponto_partida_andante = pontos_andantes[0]\n",
    "    ponto_chegada_andante = pontos_andantes[1]\n",
    "\n",
    "    # para cada par de pontos_andantes, cria as variáveis 'ai', 'aj', 'bi' e 'bj'\n",
    "    # para adaptar o código em relação ao trabalho de modelagem 'pdf'\n",
    "    ai = ponto_partida_andante[0]\n",
    "    aj = ponto_partida_andante[1]\n",
    "    bi = ponto_chegada_andante[0]\n",
    "    bj = ponto_chegada_andante[1]\n",
    "\n",
    "    # cria a matriz 'ac'\n",
    "    matriz_ac = np.array([[ai - ci], \n",
    "                          [aj - cj]])\n",
    "\n",
    "    # cria a matriz 'm'    \n",
    "    matriz_m = np.array(\n",
    "    [\n",
    "        [di - ci, ai - bi],\n",
    "        [dj - cj, aj - bj]\n",
    "    ]\n",
    "    )\n",
    "\n",
    "\n",
    "    try:\n",
    "        # calcula a inversa da matriz 'm'\n",
    "        matriz_m_inv = np.linalg.inv(matriz_m)\n",
    "\n",
    "        # calcula os coeficientes 'k1' e 'k2' do cruzamento\n",
    "        k2, k1 = matriz_m_inv.dot(matriz_ac)\n",
    "\n",
    "        if 0 <= k1 <= 1 and 0 <= k2 <= 1:\n",
    "            print(\"cruzou\")\n",
    "    except np.linalg.LinAlgError:\n",
    "        # se a matriz 'm' for singular, não é possível calcular a inversa, ou seja,\n",
    "        # os vetores são paralelos e não se cruzam\n",
    "        pass\n",
    "    \n",
    "    # cria um frame preto (zeros) com 480 altura X 640 largura pixels e 3 canais de cor (RGB)\n",
    "    frame = np.zeros((480, 640, 3), dtype=np.uint8)\n",
    "\n",
    "    # desenha uma seta no frame que representa o vetor de contagem de cruzamentos\n",
    "    frame = cv2.arrowedLine(img=frame,\n",
    "                            pt1=pontos_contador[\"p1\"],\n",
    "                            pt2=pontos_contador[\"p2\"],\n",
    "                            color=(0, 255, 0),\n",
    "                            thickness=2)\n",
    "    \n",
    "    # desenha uma seta no frame que representa o vetor do objeto 'andante'\n",
    "    frame = cv2.arrowedLine(img=frame,\n",
    "                            pt1=ponto_partida_andante,\n",
    "                            pt2=ponto_chegada_andante,\n",
    "                            color=(0, 0, 255),\n",
    "                            thickness=2)\n",
    "    \n",
    "    # exibe o frame na tela\n",
    "    cv2.imshow(\"Frame\", frame)\n",
    "    \n",
    "    # congela a execução do código até que uma tecla seja pressionada\n",
    "    if cv2.waitKey(0) == ord('q'):\n",
    "        break\n",
    "\n",
    "# fecha todas as janelas abertas\n",
    "cv2.destroyAllWindows()\n"
   ]
  },
  {
   "cell_type": "markdown",
   "metadata": {},
   "source": [
    "### Determinando a ``direção`` do cruzamento"
   ]
  },
  {
   "cell_type": "code",
   "execution_count": 20,
   "metadata": {},
   "outputs": [
    {
     "data": {
      "text/plain": [
       "array([  0, 400])"
      ]
     },
     "execution_count": 20,
     "metadata": {},
     "output_type": "execute_result"
    }
   ],
   "source": [
    "# convertendo a nomenclatura para a modelagem dois do trabalho 'pdf'\n",
    "v1 = vetor_contador\n",
    "v1"
   ]
  },
  {
   "cell_type": "code",
   "execution_count": 21,
   "metadata": {},
   "outputs": [
    {
     "data": {
      "text/plain": [
       "array([40,  0])"
      ]
     },
     "execution_count": 21,
     "metadata": {},
     "output_type": "execute_result"
    }
   ],
   "source": [
    "# convertendo a nomenclatura para a modelagem dois do trabalho 'pdf'\n",
    "v21 = vetor_andante\n",
    "v21"
   ]
  },
  {
   "cell_type": "code",
   "execution_count": 22,
   "metadata": {},
   "outputs": [
    {
     "data": {
      "text/plain": [
       "array([-40,   0])"
      ]
     },
     "execution_count": 22,
     "metadata": {},
     "output_type": "execute_result"
    }
   ],
   "source": [
    "# invertendo o vetor 'andante' (v21) para um vetor 'andante' invertido para checar so o modelo\n",
    "# que calcula a direção do vetor 'andante' está correto para ambos os lados de cruzamento\n",
    "v22 = -1 * v21\n",
    "v22"
   ]
  },
  {
   "cell_type": "code",
   "execution_count": 23,
   "metadata": {},
   "outputs": [
    {
     "data": {
      "text/plain": [
       "array([400,   0])"
      ]
     },
     "execution_count": 23,
     "metadata": {},
     "output_type": "execute_result"
    }
   ],
   "source": [
    "# v3 é o produto vetorial entre o vetor v1 e o vetor unitário na direção k\n",
    "v3 = np.array([v1[1], -v1[0]])\n",
    "v3"
   ]
  },
  {
   "cell_type": "code",
   "execution_count": 24,
   "metadata": {},
   "outputs": [
    {
     "data": {
      "text/plain": [
       "np.int64(16000)"
      ]
     },
     "execution_count": 24,
     "metadata": {},
     "output_type": "execute_result"
    }
   ],
   "source": [
    "# aplicando o produto escalar de v3 com o vetor v21 (vetor andante um) (positivo para a direção A->B)\n",
    "v21.dot(v3)"
   ]
  },
  {
   "cell_type": "code",
   "execution_count": 25,
   "metadata": {},
   "outputs": [
    {
     "data": {
      "text/plain": [
       "np.int64(-16000)"
      ]
     },
     "execution_count": 25,
     "metadata": {},
     "output_type": "execute_result"
    }
   ],
   "source": [
    "# aplicando o produto escalar de v3 com o vetor v22 (vetor andante dois) (negativo para a direção B->A)\n",
    "v22.dot(v3)"
   ]
  },
  {
   "cell_type": "markdown",
   "metadata": {},
   "source": [
    "### Repetindo o código anterior e adicionando comandos para determinar a ``direção`` dos cruzamentos"
   ]
  },
  {
   "cell_type": "code",
   "execution_count": 26,
   "metadata": {},
   "outputs": [
    {
     "name": "stdout",
     "output_type": "stream",
     "text": [
      "cruzou A->B\n",
      "cruzou B->A\n",
      "cruzou A->B\n",
      "cruzou B->A\n",
      "cruzou A->B\n",
      "cruzou B->A\n",
      "cruzou A->B\n",
      "cruzou B->A\n",
      "cruzou A->B\n",
      "cruzou B->A\n",
      "cruzou A->B\n"
     ]
    }
   ],
   "source": [
    "for pontos_andantes in pontos_pareados:\n",
    "    ponto_partida_pessoa = pontos_andantes[0]\n",
    "    ponto_chegada_pessoa = pontos_andantes[1]\n",
    "\n",
    "    # para cada par de pontos_andantes, cria as variáveis 'ai', 'aj', 'bi' e 'bj'\n",
    "    ai = ponto_partida_pessoa[0]\n",
    "    aj = ponto_partida_pessoa[1]\n",
    "    bi = ponto_chegada_pessoa[0]\n",
    "    bj = ponto_chegada_pessoa[1]\n",
    "\n",
    "    # cria a matriz 'ac'\n",
    "    matriz_ac = np.array([[ai - ci], \n",
    "                          [aj - cj]])\n",
    "    \n",
    "    # cria a matriz 'm'\n",
    "    matriz_m = np.array(\n",
    "    [\n",
    "        [di - ci, ai - bi],\n",
    "        [dj - cj, aj - bj]\n",
    "    ]\n",
    "    )\n",
    "\n",
    "    try:\n",
    "        # calcula a inversa da matriz 'm'\n",
    "        matriz_m_inv = np.linalg.inv(matriz_m)\n",
    "\n",
    "        # calcula os coeficientes 'k1' e 'k2' do cruzamento\n",
    "        k2, k1 = matriz_m_inv.dot(matriz_ac)\n",
    "\n",
    "        if 0 <= k1 <= 1 and 0 <= k2 <= 1:\n",
    "            vetor_andante = np.array([bi - ai, bj - aj])\n",
    "            v2 = vetor_andante\n",
    "            \n",
    "            produto_escalar = v2.dot(v3)\n",
    "            if produto_escalar > 0:\n",
    "                print(\"cruzou B->A\")\n",
    "            else:\n",
    "                print(\"cruzou A->B\")\n",
    "\n",
    "    except np.linalg.LinAlgError:\n",
    "        pass\n",
    "    \n",
    "    # cria um frame preto (zeros) com 480 altura X 640 largura pixels e 3 canais de cor (RGB)\n",
    "    frame = np.zeros((480, 640, 3), dtype=np.uint8)\n",
    "\n",
    "    # desenha uma seta no frame que representa o vetor de contagem de cruzamentos\n",
    "    frame = cv2.arrowedLine(img=frame,\n",
    "                            pt1=pontos_contador[\"p1\"],\n",
    "                            pt2=pontos_contador[\"p2\"],\n",
    "                            color=(0, 255, 0),\n",
    "                            thickness=2)\n",
    "    \n",
    "    # desenha uma seta no frame que representa o vetor do objeto 'andante'\n",
    "    frame = cv2.arrowedLine(img=frame,\n",
    "                            pt1=ponto_partida_pessoa,\n",
    "                            pt2=ponto_chegada_pessoa,\n",
    "                            color=(0, 0, 255),\n",
    "                            thickness=2)\n",
    "    \n",
    "    # exibe o frame na tela\n",
    "    cv2.imshow(\"Frame\", frame)\n",
    "    \n",
    "    # congela a execução do código até que uma tecla seja pressionada\n",
    "    if cv2.waitKey(0) == ord('q'):\n",
    "        break\n",
    "\n",
    "# fecha todas as janelas abertas\n",
    "cv2.destroyAllWindows()"
   ]
  },
  {
   "cell_type": "code",
   "execution_count": null,
   "metadata": {},
   "outputs": [],
   "source": []
  }
 ],
 "metadata": {
  "kernelspec": {
   "display_name": "cpp",
   "language": "python",
   "name": "python3"
  },
  "language_info": {
   "codemirror_mode": {
    "name": "ipython",
    "version": 3
   },
   "file_extension": ".py",
   "mimetype": "text/x-python",
   "name": "python",
   "nbconvert_exporter": "python",
   "pygments_lexer": "ipython3",
   "version": "3.12.4"
  }
 },
 "nbformat": 4,
 "nbformat_minor": 4
}
